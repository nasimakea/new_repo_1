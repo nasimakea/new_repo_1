{
  "nbformat": 4,
  "nbformat_minor": 0,
  "metadata": {
    "colab": {
      "provenance": []
    },
    "kernelspec": {
      "name": "python3",
      "display_name": "Python 3"
    },
    "language_info": {
      "name": "python"
    }
  },
  "cells": [
    {
      "cell_type": "code",
      "execution_count": null,
      "metadata": {
        "id": "9z52I9GsjGau"
      },
      "outputs": [],
      "source": []
    },
    {
      "cell_type": "markdown",
      "source": [
        "Q1. What is an API? Give an example, where an API is used in real life."
      ],
      "metadata": {
        "id": "_CWeLdRRjIHb"
      }
    },
    {
      "cell_type": "code",
      "source": [],
      "metadata": {
        "id": "VCUeh0mvjHNy"
      },
      "execution_count": null,
      "outputs": []
    },
    {
      "cell_type": "markdown",
      "source": [
        "ANS:-\n",
        "\n",
        "\n",
        "\n",
        "An API, or Application Programming Interface, be like a bridge between different apps or systems, letting them communicate and share data. For example, think of a weather app on your phone. It gets its weather info from a weather service's API, allowing the app to fetch and display current weather data from the service. This way, the app doesn't store all the weather data itself but instead gets it fresh whenever you open it."
      ],
      "metadata": {
        "id": "wCeuz60_ktZM"
      }
    },
    {
      "cell_type": "code",
      "source": [],
      "metadata": {
        "id": "oJEIdEWBkvoD"
      },
      "execution_count": null,
      "outputs": []
    },
    {
      "cell_type": "markdown",
      "source": [
        "Q2. Give advantages and disadvantages of using API."
      ],
      "metadata": {
        "id": "ml6gur-bkyA6"
      }
    },
    {
      "cell_type": "code",
      "source": [],
      "metadata": {
        "id": "t496MGtBk2DN"
      },
      "execution_count": null,
      "outputs": []
    },
    {
      "cell_type": "markdown",
      "source": [
        "ANS:-\n",
        "\n",
        "\n",
        "APIs, while incredibly useful, do come with their own set of pros and cons. They allow for seamless integration between different software systems, enabling enhanced functionality and accessibility. However, they can also pose security risks if not properly secured, potentially leading to data breaches or unauthorized access. Additionally, reliance on external APIs means that system performance might be impacted by any changes or downtime on the API provider's end. Yet, despite these drawbacks, APIs remain an indispensable tool in modern software development, enabling innovation and collaboration across various platforms."
      ],
      "metadata": {
        "id": "cHFmqu_hlMA2"
      }
    },
    {
      "cell_type": "code",
      "source": [],
      "metadata": {
        "id": "NmiNtIMylN13"
      },
      "execution_count": null,
      "outputs": []
    },
    {
      "cell_type": "markdown",
      "source": [
        "Q3. What is a Web API? Differentiate between API and Web API"
      ],
      "metadata": {
        "id": "N9Q58DWslOzi"
      }
    },
    {
      "cell_type": "markdown",
      "source": [
        "ANS:-\n",
        "An API, which stands for Application Programming Interface, serves as a set of protocols, tools, and definitions that enable different software applications to communicate and interact with each other. It defines the methods and data formats that applications can use to request and exchange information.\n",
        "\n",
        "\n",
        "A  Web API is a specific type of API that operates over the internet using standard web protocols such as HTTP or HTTPS. It allows various software systems or components to interact with each other through the web. Web APIs are accessible via URLs and often use JSON or XML as data exchange formats."
      ],
      "metadata": {
        "id": "1MA5EFFflTbi"
      }
    },
    {
      "cell_type": "code",
      "source": [],
      "metadata": {
        "id": "J_kvTQRzlRxi"
      },
      "execution_count": null,
      "outputs": []
    },
    {
      "cell_type": "markdown",
      "source": [
        "Q4. Explain REST and SOAP Architecture. Mention shortcomings of SOAP."
      ],
      "metadata": {
        "id": "GUje5fnclplE"
      }
    },
    {
      "cell_type": "markdown",
      "source": [
        "ANS:-REST (Representational State Transfer) and SOAP (Simple Object Access Protocol) are two distinct architectural styles used in web services. REST relies on a stateless, client-server, cacheable communications protocol, typically using HTTP. It involves principles like using unique identifiers for resources, manipulating resources through representations, and stateless communication between client and server. RESTful APIs are known for their simplicity, scalability, and ease of use.\n",
        "\n",
        "On the other hand, SOAP is a protocol that defines a standardized format for exchanging structured information in the implementation of web services. It typically uses XML for message formatting and relies on other protocols like HTTP, SMTP, or TCP for message transmission. SOAP is more rigid and formal compared to REST, as it enforces strict rules for message structure and communication."
      ],
      "metadata": {
        "id": "pOPo4U4YlsdT"
      }
    },
    {
      "cell_type": "code",
      "source": [],
      "metadata": {
        "id": "DB3IMAd5mBUg"
      },
      "execution_count": null,
      "outputs": []
    },
    {
      "cell_type": "markdown",
      "source": [
        "Q5. Differentiate between REST and SOAP"
      ],
      "metadata": {
        "id": "Y2FoPGLmmhr2"
      }
    },
    {
      "cell_type": "markdown",
      "source": [],
      "metadata": {
        "id": "QVmbFO6rmjAa"
      }
    },
    {
      "cell_type": "markdown",
      "source": [
        "ANS:-REST (Representational State Transfer) and SOAP (Simple Object Access Protocol) are two distinct architectural styles used in web services. REST relies on a stateless, client-server, cacheable communications protocol, typically using HTTP. It involves principles like using unique identifiers for resources, manipulating resources through representations, and stateless communication between client and server. RESTful APIs are known for their simplicity, scalability, and ease of use.\n",
        "\n",
        "On the other hand, SOAP is a protocol that defines a standardized format for exchanging structured information in the implementation of web services. It typically uses XML for message formatting and relies on other protocols like HTTP, SMTP, or TCP for message transmission. SOAP is more rigid and formal compared to REST, as it enforces strict rules for message structure and communication."
      ],
      "metadata": {
        "id": "XT-idDLGmmbH"
      }
    },
    {
      "cell_type": "code",
      "source": [],
      "metadata": {
        "id": "jQlUfgOGmndG"
      },
      "execution_count": null,
      "outputs": []
    }
  ]
}