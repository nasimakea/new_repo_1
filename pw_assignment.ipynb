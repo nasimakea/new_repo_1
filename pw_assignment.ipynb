{
  "nbformat": 4,
  "nbformat_minor": 0,
  "metadata": {
    "colab": {
      "provenance": []
    },
    "kernelspec": {
      "name": "python3",
      "display_name": "Python 3"
    },
    "language_info": {
      "name": "python"
    }
  },
  "cells": [
    {
      "cell_type": "code",
      "execution_count": null,
      "metadata": {
        "id": "Nt8xC5RbWaGi"
      },
      "outputs": [],
      "source": []
    },
    {
      "cell_type": "markdown",
      "source": [
        "Q1. 1. What is a database? Differentiate between SQL and NoSQL databases?"
      ],
      "metadata": {
        "id": "_uKwQodaWhJC"
      }
    },
    {
      "cell_type": "code",
      "source": [],
      "metadata": {
        "id": "RkFbyHnyWi5T"
      },
      "execution_count": null,
      "outputs": []
    },
    {
      "cell_type": "markdown",
      "source": [
        "ANS:- a database is something which is used to stored the data electronically unlike we used store\n",
        "data physically in earlier time.\n",
        "basically , we have two kinds of database , one is SQL that is structured and another one is\n",
        "NOSQL where we can store all kinds of data whether it is strutured or unstructred\n",
        "\n",
        "SQL:-\n",
        "SQL (Structured Query Language) databases are a type of database management system (DBMS)\n",
        "that are based on the relational model. These databases use tables to store data in rows and columns,\n",
        "following a structured schema. SQL databases are known for their ability to manage structured data efficiently\n",
        "and are widely used in various applications and industries\n",
        "\n",
        "NoSQL database:-\n",
        "NoSQL (Not Only SQL) databases are a diverse category of database management systems\n",
        " that provide flexible alternatives to traditional SQL databases. Unlike SQL databases,\n",
        " which follow a rigid tabular structure with a predefined schema, NoSQL databases\n",
        " are designed to handle various types of unstructured, semi-structured, and structured data.\n",
        " They offer different data models beyond the traditional relational model of SQL databases."
      ],
      "metadata": {
        "id": "teVHyJ7eWjlz"
      }
    },
    {
      "cell_type": "code",
      "source": [],
      "metadata": {
        "id": "bs5_482FWszM"
      },
      "execution_count": null,
      "outputs": []
    },
    {
      "cell_type": "markdown",
      "source": [],
      "metadata": {
        "id": "l3F5dmwYWu6K"
      }
    },
    {
      "cell_type": "markdown",
      "source": [],
      "metadata": {
        "id": "cvMNtJK5Wu9y"
      }
    },
    {
      "cell_type": "markdown",
      "source": [],
      "metadata": {
        "id": "jZqX69KPWvAo"
      }
    },
    {
      "cell_type": "markdown",
      "source": [],
      "metadata": {
        "id": "72iGonY5WvDo"
      }
    },
    {
      "cell_type": "markdown",
      "source": [],
      "metadata": {
        "id": "uboJMCg_WvGu"
      }
    },
    {
      "cell_type": "markdown",
      "source": [],
      "metadata": {
        "id": "OnUUMzwHWvIf"
      }
    },
    {
      "cell_type": "markdown",
      "source": [
        " Q2. What is DDL? Explain why CREATE, DROP, ALTER, and TRUNCATE are used with an example."
      ],
      "metadata": {
        "id": "JIkbKgdwWvLm"
      }
    },
    {
      "cell_type": "code",
      "source": [],
      "metadata": {
        "id": "MH9mYdg0W0FZ"
      },
      "execution_count": null,
      "outputs": []
    },
    {
      "cell_type": "markdown",
      "source": [
        " ANS:- It is the subset of SQL used for defining the database schema and structure .it's statements are reponsible for\n",
        "managing the strucure of the database objects , such as tables , indexes, constraints , and views',\n",
        "\n",
        " create database pwskills;\n",
        "use pwskills;\n",
        "create table data_science(roll_no int not null,FName varchar(20),LName varchar(20),batch_no int not null);\n",
        "\n",
        "create database pwskills1;\n",
        "\n",
        "drop database pwskills1;\n",
        "\n",
        "alter table data_science\n",
        "add email varchar(40);\n",
        "\n",
        "truncate table data_science;"
      ],
      "metadata": {
        "id": "z4oUljSHW1N-"
      }
    },
    {
      "cell_type": "code",
      "source": [],
      "metadata": {
        "id": "m43RB5FLW8N6"
      },
      "execution_count": null,
      "outputs": []
    },
    {
      "cell_type": "markdown",
      "source": [],
      "metadata": {
        "id": "7YjxZ3nqXWSv"
      }
    },
    {
      "cell_type": "markdown",
      "source": [
        " Q3. What is DML? Explain INSERT, UPDATE, and DELETE with an example."
      ],
      "metadata": {
        "id": "99qyr9I_XWWA"
      }
    },
    {
      "cell_type": "code",
      "source": [],
      "metadata": {
        "id": "3lrKJO08XXDe"
      },
      "execution_count": null,
      "outputs": []
    },
    {
      "cell_type": "markdown",
      "source": [
        " ANS:-DML stands for Data Manipulation Language,\n",
        " which is a subset of SQL (Structured Query Language) used for\n",
        " manipulating data stored within the database. DML commands enable users to add, modify,\n",
        " retrieve, and delete data from the database tables.\n",
        "\n",
        " like we have created a database in the above question , so we are going to use that\n",
        "\n",
        "\n",
        "\n",
        "  use pwskills;\n",
        "\n",
        "insert into data_science(roll_no,FName,LName,batch_no,email) values\n",
        "(1,'Nasim','akram',2,'nasimakram6200@gmail.com');\n",
        "\n",
        "\n",
        "\n",
        "update data_science\n",
        "set FName='Zasim'\n",
        "where FName='Nasim';\n",
        "\n",
        "\n",
        "\n",
        "\n",
        "\n",
        "delete from data_science\n",
        "where roll_no=1"
      ],
      "metadata": {
        "id": "gOljF-9KXnbx"
      }
    },
    {
      "cell_type": "code",
      "source": [],
      "metadata": {
        "id": "my80GXGJXxLr"
      },
      "execution_count": null,
      "outputs": []
    },
    {
      "cell_type": "markdown",
      "source": [
        "Q4. What is DQL? Explain SELECT with an example."
      ],
      "metadata": {
        "id": "4Scw3O1dYH65"
      }
    },
    {
      "cell_type": "code",
      "source": [],
      "metadata": {
        "id": "nmh5zZaTYJAf"
      },
      "execution_count": null,
      "outputs": []
    },
    {
      "cell_type": "markdown",
      "source": [
        "ANS:-\n",
        "DQL stands for Data Query Language, a subset of SQL (Structured Query Language)\n",
        " specifically used for querying and retrieving data from databases.\n",
        " The primary purpose of DQL is to retrieve specific information or subsets of data stored\n",
        "\n",
        " select is used to retreive data from the database such as\n",
        "\n",
        "\n",
        "\n",
        "\n",
        "\n",
        "\n",
        "\n",
        "\n",
        "\n",
        "\n",
        "\n",
        "\n",
        "\n",
        " select * from\n",
        " data_science\n",
        " where roll_no=1;"
      ],
      "metadata": {
        "id": "jeUOzjebYJzl"
      }
    },
    {
      "cell_type": "code",
      "source": [],
      "metadata": {
        "id": "Mg24JHM0YQ_Y"
      },
      "execution_count": null,
      "outputs": []
    },
    {
      "cell_type": "markdown",
      "source": [
        " Q5. Explain Primary Key and Foreign Key."
      ],
      "metadata": {
        "id": "5b9xBL0GYWEw"
      }
    },
    {
      "cell_type": "code",
      "source": [],
      "metadata": {
        "id": "QOpghYE1YXCn"
      },
      "execution_count": null,
      "outputs": []
    },
    {
      "cell_type": "markdown",
      "source": [
        " ANS:-A Primary Key is a column or a set of columns in a table that uniquely identifies each row.\n",
        "It ensures each row's uniqueness and acts as a unique identifier for the records.\n",
        "\n",
        "while foreign key\n",
        "A Foreign Key is a column or a set of columns in a table that establishes a link or relationship with a primary key in another table.\n",
        "It maintains referential integrity between related tables by enforcing a connection between them.\n",
        "\n",
        "\n",
        "\n",
        "\n",
        " within the database tables."
      ],
      "metadata": {
        "id": "3vyzeMUqYXgJ"
      }
    },
    {
      "cell_type": "code",
      "source": [],
      "metadata": {
        "id": "jxHvAge7Ybul"
      },
      "execution_count": null,
      "outputs": []
    }
  ]
}